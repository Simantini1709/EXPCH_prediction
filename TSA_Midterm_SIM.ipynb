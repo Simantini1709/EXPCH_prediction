{
  "cells": [
    {
      "cell_type": "code",
      "metadata": {},
      "source": [
        "from datetime import datetime\n",
        "from sklearn.model_selection import train_test_split\n",
        "from statsmodels.tsa.seasonal import seasonal_decompose\n",
        "import plotly.express as px\n",
        "import statsmodels.api as sm\n",
        "from statsmodels.tsa.stattools import adfuller\n",
        "from statsmodels.tsa.arima_model import ARIMA\n",
        "import pmdarima as pm\n",
        "import numpy as np\n",
        "import seaborn as sns\n",
        "import pandas as pd\n",
        "import matplotlib.pyplot as plt\n",
        "from statsmodels.graphics.tsaplots import plot_acf\n",
        "from statsmodels.graphics.tsaplots import plot_pacf\n",
        "from scipy.stats.mstats import winsorize\n",
        "from pmdarima import auto_arima\n",
        "from statsmodels.tsa.holtwinters import Holt\n",
        "from statsmodels.tsa.holtwinters import ExponentialSmoothing\n",
        "from scipy.stats import pearsonr, spearmanr, kendalltau"
      ],
      "id": "53cfbb08",
      "execution_count": null,
      "outputs": []
    },
    {
      "cell_type": "code",
      "metadata": {},
      "source": [
        "import warnings\n",
        "warnings.filterwarnings('ignore')"
      ],
      "id": "ca19eee1",
      "execution_count": null,
      "outputs": []
    },
    {
      "cell_type": "code",
      "metadata": {},
      "source": [
        "df1 = pd.read_csv('EXPCH.csv',parse_dates=True,index_col='DATE')\n",
        "df2 = pd.read_csv('IMPCH.csv',parse_dates=True,index_col='DATE')\n",
        "print(df1)\n",
        "print(df2)"
      ],
      "id": "6e84f5e4",
      "execution_count": null,
      "outputs": []
    },
    {
      "cell_type": "code",
      "metadata": {},
      "source": [
        "df1.shape"
      ],
      "id": "e09d6ce6",
      "execution_count": null,
      "outputs": []
    },
    {
      "cell_type": "code",
      "metadata": {},
      "source": [
        "df2.shape"
      ],
      "id": "8cd3749b",
      "execution_count": null,
      "outputs": []
    },
    {
      "cell_type": "code",
      "metadata": {},
      "source": [
        "#Check the null values in each column \n",
        "print(df1.isnull().sum())\n",
        "print(df2.isnull().sum())"
      ],
      "id": "8395cdf0",
      "execution_count": null,
      "outputs": []
    },
    {
      "cell_type": "code",
      "metadata": {},
      "source": [
        "merged_df=df1\n",
        "merged_df['IMPCH']=df2['IMPCH']\n",
        "merged_df.head()"
      ],
      "id": "aadd2d46",
      "execution_count": null,
      "outputs": []
    },
    {
      "cell_type": "code",
      "metadata": {},
      "source": [
        "correlation = merged_df['EXPCH'].corr(merged_df['IMPCH'])\n",
        "\n",
        "# Print the correlation coefficient\n",
        "print(f\"Correlation between the two datasets: {correlation*100}\")"
      ],
      "id": "28e61c89",
      "execution_count": null,
      "outputs": []
    },
    {
      "cell_type": "code",
      "metadata": {},
      "source": [
        "merged_df.plot(figsize=(15,5),legend=True)"
      ],
      "id": "aab3c2c3",
      "execution_count": null,
      "outputs": []
    },
    {
      "cell_type": "code",
      "metadata": {},
      "source": [
        "df1.info()\n",
        "df2.info()"
      ],
      "id": "2514d911",
      "execution_count": null,
      "outputs": []
    },
    {
      "cell_type": "code",
      "metadata": {},
      "source": [
        "df1.index\n",
        "df2.index"
      ],
      "id": "e3ab87cd",
      "execution_count": null,
      "outputs": []
    },
    {
      "cell_type": "code",
      "metadata": {},
      "source": [
        "import seaborn as sns\n",
        "import matplotlib.pyplot as plt\n",
        "\n",
        "# Assuming df1 and df2 are your DataFrames containing the covariate variables\n",
        "# For example, df1['covariate1'] and df2['covariate2'] are the covariate variables\n",
        "\n",
        "# Plotting covariate variables from df1 and df2 against each other\n",
        "sns.scatterplot(x=df1['EXPCH'], y=df2['IMPCH'],color='violet')\n",
        "plt.xlabel('Covariate 1 from EXPCH')\n",
        "plt.ylabel('Covariate 2 from IMPCH')\n",
        "plt.title('Scatter Plot of Covariate 1 from EXPCH vs Covariate 2 from IMPCH')\n",
        "plt.show()"
      ],
      "id": "3136b1e7",
      "execution_count": null,
      "outputs": []
    },
    {
      "cell_type": "markdown",
      "metadata": {},
      "source": [
        "Seasonality Check\n"
      ],
      "id": "93d44ccc"
    },
    {
      "cell_type": "code",
      "metadata": {},
      "source": [
        "from statsmodels.tsa.seasonal import seasonal_decompose\n",
        "result = seasonal_decompose(df1['EXPCH'],period=12)  # Assuming monthly data with a seasonal period of 12\n",
        "plt.figure(figsize=(20, 8))\n",
        "result.plot()\n",
        "plt.show()"
      ],
      "id": "4d5659e1",
      "execution_count": null,
      "outputs": []
    },
    {
      "cell_type": "code",
      "metadata": {},
      "source": [
        "from statsmodels.tsa.seasonal import seasonal_decompose\n",
        "result = seasonal_decompose(df2['IMPCH'],period=12)  # Assuming monthly data with a seasonal period of 12\n",
        "plt.figure(figsize=(18, 8))\n",
        "result.plot()\n",
        "plt.show()"
      ],
      "id": "001466e6",
      "execution_count": null,
      "outputs": []
    },
    {
      "cell_type": "code",
      "metadata": {},
      "source": [
        "from statsmodels.graphics.tsaplots import plot_acf,plot_pacf"
      ],
      "id": "572db532",
      "execution_count": null,
      "outputs": []
    },
    {
      "cell_type": "code",
      "metadata": {},
      "source": [
        "fig, ax = plt.subplots(figsize=(12,5))\n",
        "plot_acf(df1['EXPCH'],lags=40,ax=ax);"
      ],
      "id": "85bd71de",
      "execution_count": null,
      "outputs": []
    },
    {
      "cell_type": "code",
      "metadata": {},
      "source": [
        "fig, ax = plt.subplots(figsize=(12,5))\n",
        "plot_pacf(df1['EXPCH'],lags=25,ax=ax);"
      ],
      "id": "3c4a0ecc",
      "execution_count": null,
      "outputs": []
    },
    {
      "cell_type": "markdown",
      "metadata": {},
      "source": [
        "ACF and PACF for IMPCH\n"
      ],
      "id": "a29cddcb"
    },
    {
      "cell_type": "code",
      "metadata": {},
      "source": [
        "fig, ax = plt.subplots(figsize=(12,5))\n",
        "plot_acf(df2['IMPCH'],lags=40,ax=ax);"
      ],
      "id": "76b3656f",
      "execution_count": null,
      "outputs": []
    },
    {
      "cell_type": "code",
      "metadata": {},
      "source": [
        "fig, ax = plt.subplots(figsize=(12,5))\n",
        "plot_pacf(df2['IMPCH'],lags=25,ax=ax);"
      ],
      "id": "b21d8aa6",
      "execution_count": null,
      "outputs": []
    },
    {
      "cell_type": "code",
      "metadata": {},
      "source": [
        "from statsmodels.tsa.stattools import adfuller\n",
        "\n",
        "def adf_test(series,title=''):\n",
        "    \"\"\"\n",
        "    Pass in a time series and an optional title, returns an ADF report\n",
        "    \"\"\"\n",
        "    print(f'Augmented Dickey-Fuller Test: {title}')\n",
        "    result = adfuller(series.dropna(),autolag='AIC') # .dropna() handles differenced data\n",
        "    \n",
        "    labels = ['ADF test statistic','p-value','# lags used','# observations']\n",
        "    out = pd.Series(result[0:4],index=labels)\n",
        "\n",
        "    for key,val in result[4].items():\n",
        "        out[f'critical value ({key})']=val\n",
        "        \n",
        "    print(out.to_string())          # .to_string() removes the line \"dtype: float64\"\n",
        "    \n",
        "    if result[1] <= 0.05:\n",
        "        print(\"Strong evidence against the null hypothesis\")\n",
        "        print(\"Reject the null hypothesis\")\n",
        "        print(\"Data has no unit root and is stationary\")\n",
        "    else:\n",
        "        print(\"Weak evidence against the null hypothesis\")\n",
        "        print(\"Fail to reject the null hypothesis\")\n",
        "        print(\"Data has a unit root and is non-stationary\")"
      ],
      "id": "4183703f",
      "execution_count": null,
      "outputs": []
    },
    {
      "cell_type": "code",
      "metadata": {},
      "source": [
        "result1=adf_test(df1['EXPCH'],title='')"
      ],
      "id": "e5352e55",
      "execution_count": null,
      "outputs": []
    },
    {
      "cell_type": "code",
      "metadata": {},
      "source": [
        "result2=adf_test(df2['IMPCH'],title='')"
      ],
      "id": "fb86be99",
      "execution_count": null,
      "outputs": []
    },
    {
      "cell_type": "markdown",
      "metadata": {},
      "source": [
        "As p value for both the Time series is more then 0.05 we can say its not stationary and need differencing.\n"
      ],
      "id": "c5afb011"
    },
    {
      "cell_type": "code",
      "metadata": {},
      "source": [
        "from pmdarima import auto_arima\n",
        "\n",
        "# Assuming 'values' is the column you want to use for time series forecasting\n",
        "values = merged_df['EXPCH']\n",
        "\n",
        "# Perform auto_arima on the numerical values\n",
        "stepwise_fit = auto_arima(values,exogenous=merged_df['IMPCH'],test='adf',suppress_warnings=True,seasonal=True,m=12)\n",
        "\n",
        "# Print the summary of the fitted model\n",
        "print(stepwise_fit.summary())"
      ],
      "id": "5909b943",
      "execution_count": null,
      "outputs": []
    },
    {
      "cell_type": "code",
      "metadata": {},
      "source": [
        "from statsmodels.tsa.statespace.sarimax import SARIMAX"
      ],
      "id": "66fd81ad",
      "execution_count": null,
      "outputs": []
    },
    {
      "cell_type": "code",
      "metadata": {},
      "source": [
        "train=merged_df.iloc[:421]\n",
        "test=merged_df.iloc[421:]\n",
        "print(train.shape,test.shape)"
      ],
      "id": "afa5ea6f",
      "execution_count": null,
      "outputs": []
    },
    {
      "cell_type": "code",
      "metadata": {},
      "source": [
        "model = SARIMAX(train['EXPCH'],exog=train['IMPCH'],order=(2,1,2),seasonal_order=(2,0,2,12),enforce_invertibility=True)\n",
        "results = model.fit()\n",
        "\n",
        "# Print the model summary\n",
        "print(results.summary())\n"
      ],
      "id": "e0c8a69b",
      "execution_count": null,
      "outputs": []
    },
    {
      "cell_type": "code",
      "metadata": {},
      "source": [
        "start=len(train)\n",
        "end=len(train)+len(test)-1\n",
        "exog_forecast=test['IMPCH']\n",
        "prediction=results.predict(start=start,end=end,exog=exog_forecast).rename('prediction')"
      ],
      "id": "85a4aa53",
      "execution_count": null,
      "outputs": []
    },
    {
      "cell_type": "code",
      "metadata": {},
      "source": [
        "prediction.head()"
      ],
      "id": "cfba58b9",
      "execution_count": null,
      "outputs": []
    },
    {
      "cell_type": "code",
      "metadata": {},
      "source": [
        "test.head()"
      ],
      "id": "16a4053b",
      "execution_count": null,
      "outputs": []
    },
    {
      "cell_type": "code",
      "metadata": {},
      "source": [
        "from sklearn.metrics import mean_squared_error\n",
        "error=np.sqrt(mean_squared_error(test[\"EXPCH\"],prediction))\n",
        "print(error)"
      ],
      "id": "73f43455",
      "execution_count": null,
      "outputs": []
    },
    {
      "cell_type": "code",
      "metadata": {},
      "source": [
        "test['EXPCH'].plot(figsize=(12,8),legend=True)\n",
        "prediction.plot(legend=True)"
      ],
      "id": "aeafb8db",
      "execution_count": null,
      "outputs": []
    },
    {
      "cell_type": "code",
      "metadata": {},
      "source": [
        "auto_arima(merged_df['IMPCH'],seasonal=True,m=12).summary()"
      ],
      "id": "bfd23080",
      "execution_count": null,
      "outputs": []
    },
    {
      "cell_type": "code",
      "metadata": {},
      "source": [
        "model_IMPCH = SARIMAX(merged_df['IMPCH'],order=(3,1,0),seasonal_order=(2, 0, [1, 2], 12))\n",
        "results = model_IMPCH.fit()\n",
        "IMPCH_PRED = results.predict(len(merged_df),len(merged_df)+47).rename('Forecasted_IMPCH')\n",
        "print(IMPCH_PRED)"
      ],
      "id": "ff8cf768",
      "execution_count": null,
      "outputs": []
    },
    {
      "cell_type": "code",
      "metadata": {},
      "source": [
        "len(IMPCH_PRED)"
      ],
      "id": "27d86d01",
      "execution_count": null,
      "outputs": []
    },
    {
      "cell_type": "code",
      "metadata": {},
      "source": [
        "new_df=pd.DataFrame({'IMPCH':IMPCH_PRED,'EXPCH': np.nan})\n",
        "df_new = pd.concat([merged_df, new_df])\n",
        "df_new.head()"
      ],
      "id": "ff388c46",
      "execution_count": null,
      "outputs": []
    },
    {
      "cell_type": "code",
      "metadata": {},
      "source": [
        "df_new.tail()"
      ],
      "id": "85ee4f42",
      "execution_count": null,
      "outputs": []
    },
    {
      "cell_type": "code",
      "metadata": {},
      "source": [
        "len(df_new)"
      ],
      "id": "6177b4a2",
      "execution_count": null,
      "outputs": []
    },
    {
      "cell_type": "code",
      "metadata": {},
      "source": [
        "fcast_start=len(merged_df)\n",
        "exog_forecast=df_new[421:]['IMPCH']\n",
        "fcast_val=results.predict(start=fcast_start,end=fcast_start+47,exog=exog_forecast)"
      ],
      "id": "566fd4c7",
      "execution_count": null,
      "outputs": []
    },
    {
      "cell_type": "code",
      "metadata": {},
      "source": [
        "fcast_val"
      ],
      "id": "e2462c59",
      "execution_count": null,
      "outputs": []
    },
    {
      "cell_type": "code",
      "metadata": {},
      "source": [
        "merged_df.plot(figsize=(12,8),legend=True,color='blue')\n",
        "IMPCH_PRED.plot(legend=True,color='red')"
      ],
      "id": "6431aaf8",
      "execution_count": null,
      "outputs": []
    }
  ],
  "metadata": {
    "kernelspec": {
      "display_name": "Python 3",
      "language": "python",
      "name": "python3"
    }
  },
  "nbformat": 4,
  "nbformat_minor": 5
}